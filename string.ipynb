{
 "cells": [
  {
   "cell_type": "code",
   "execution_count": 7,
   "metadata": {},
   "outputs": [
    {
     "name": "stdout",
     "output_type": "stream",
     "text": [
      "['名字1', '名字2', 'ABCD12345']\n",
      "3 名字1 名字2\n",
      "<class 'list'>\n"
     ]
    }
   ],
   "source": [
    "word = \"【名字1】【名字2】ABCD12345\"\n",
    "word = word.replace(\"【\",\"\")\n",
    "word = word.split(\"】\")\n",
    "print(word)\n",
    "print(len(word),word[0],word[1])\n",
    "print(type(word))"
   ]
  },
  {
   "cell_type": "code",
   "execution_count": null,
   "metadata": {},
   "outputs": [],
   "source": []
  }
 ],
 "metadata": {
  "kernelspec": {
   "display_name": "Python 3",
   "language": "python",
   "name": "python3"
  },
  "language_info": {
   "codemirror_mode": {
    "name": "ipython",
    "version": 3
   },
   "file_extension": ".py",
   "mimetype": "text/x-python",
   "name": "python",
   "nbconvert_exporter": "python",
   "pygments_lexer": "ipython3",
   "version": "3.8.5"
  }
 },
 "nbformat": 4,
 "nbformat_minor": 4
}
