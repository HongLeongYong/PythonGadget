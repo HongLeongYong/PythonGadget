{
 "cells": [
  {
   "cell_type": "code",
   "execution_count": 2,
   "metadata": {},
   "outputs": [],
   "source": [
    "import tkinter as tk\n",
    "\n",
    "def click_func():\n",
    "    tkstr.set('被按了')\n",
    "\n",
    "# -- 主視窗 --\n",
    "window = tk.Tk()\n",
    "window.geometry('640x480')\n",
    "window.title('YouTube 極速下載器')\n",
    "\n",
    "# -- Frame --\n",
    "input_fm = tk.Frame(window, bg='red', width=640, height=120)\n",
    "input_fm.pack()\n",
    "\n",
    "# -- Button --\n",
    "tkstr = tk.StringVar()\n",
    "tkstr.set('請按我')\n",
    "btn = tk.Button(window, textvariable=tkstr, font=('細明體', 20), command=click_func)\n",
    "btn.pack() # 排版\n",
    "\n",
    "# -- Label --\n",
    "lb = tk.Label(window, bg='red', fg='white', text='請輸入 YouTube 網址', font=('細明體', 30), padx=50, pady=80)\n",
    "lb.pack()\n",
    "\n",
    "# -- 啟動主視窗 --\n",
    "window.mainloop()"
   ]
  },
  {
   "cell_type": "code",
   "execution_count": null,
   "metadata": {},
   "outputs": [],
   "source": []
  }
 ],
 "metadata": {
  "kernelspec": {
   "display_name": "Python 3",
   "language": "python",
   "name": "python3"
  },
  "language_info": {
   "codemirror_mode": {
    "name": "ipython",
    "version": 3
   },
   "file_extension": ".py",
   "mimetype": "text/x-python",
   "name": "python",
   "nbconvert_exporter": "python",
   "pygments_lexer": "ipython3",
   "version": "3.7.4"
  }
 },
 "nbformat": 4,
 "nbformat_minor": 2
}
