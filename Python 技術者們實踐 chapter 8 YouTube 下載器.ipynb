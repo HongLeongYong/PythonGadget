{
 "cells": [
  {
   "cell_type": "code",
   "execution_count": 2,
   "metadata": {},
   "outputs": [],
   "source": [
    "import tkinter as tk\n",
    "# -- 主視窗 --\n",
    "window = tk.Tk()\n",
    "window.geometry('680x480')\n",
    "window.title('YouTube 極速下載器')\n",
    "window.mainloop()\n",
    "\n",
    "# -- Frame --\n",
    "input_fm = tk.Frame(window, bg = 'red', width = 640, height = 120)\n",
    "input_fm.p"
   ]
  },
  {
   "cell_type": "code",
   "execution_count": null,
   "metadata": {},
   "outputs": [],
   "source": []
  }
 ],
 "metadata": {
  "kernelspec": {
   "display_name": "Python 3",
   "language": "python",
   "name": "python3"
  },
  "language_info": {
   "codemirror_mode": {
    "name": "ipython",
    "version": 3
   },
   "file_extension": ".py",
   "mimetype": "text/x-python",
   "name": "python",
   "nbconvert_exporter": "python",
   "pygments_lexer": "ipython3",
   "version": "3.7.4"
  }
 },
 "nbformat": 4,
 "nbformat_minor": 2
}
