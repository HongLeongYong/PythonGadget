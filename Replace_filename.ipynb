{
 "cells": [
  {
   "cell_type": "code",
   "execution_count": 12,
   "metadata": {},
   "outputs": [
    {
     "name": "stdout",
     "output_type": "stream",
     "text": [
      "要取代的字：world\n",
      "要取代成什麼字：hello\n",
      "C:\\Users\\yongh\\Documents\\GitHub\\PythonGadget\\world world.txt =======> C:\\Users\\yongh\\Documents\\GitHub\\PythonGadget\\hello hello.txt\n"
     ]
    }
   ],
   "source": [
    "import os\n",
    "import pathlib\n",
    "\n",
    "# 批量修改名稱\n",
    "# 解決系統關鍵字問題，例如 Documents/Documents.txt 無法修改\n",
    "path = str(pathlib.Path().absolute())\n",
    "replace_word = input('要取代的字：')\n",
    "after_word = input('要取代成什麼字：')\n",
    "\n",
    "fileList = os.listdir(path)\n",
    "n = 0\n",
    "\n",
    "for i in fileList:\n",
    "    oldname = path + os.sep + fileList[n]\n",
    "    \n",
    "    if(replace_word in fileList[n]):\n",
    "        newname = path + os.sep + fileList[n].replace(replace_word,after_word)\n",
    "        os.rename(oldname,newname)\n",
    "        print(oldname,'=======>',newname)\n",
    "    n += 1\n"
   ]
  },
  {
   "cell_type": "code",
   "execution_count": null,
   "metadata": {},
   "outputs": [],
   "source": []
  }
 ],
 "metadata": {
  "kernelspec": {
   "display_name": "Python 3",
   "language": "python",
   "name": "python3"
  },
  "language_info": {
   "codemirror_mode": {
    "name": "ipython",
    "version": 3
   },
   "file_extension": ".py",
   "mimetype": "text/x-python",
   "name": "python",
   "nbconvert_exporter": "python",
   "pygments_lexer": "ipython3",
   "version": "3.8.5"
  }
 },
 "nbformat": 4,
 "nbformat_minor": 4
}
