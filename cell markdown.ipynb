{
 "cells": [
  {
   "cell_type": "markdown",
   "id": "through-pixel",
   "metadata": {},
   "source": [
    "### 第一次知道jupyter notebook 可以使用 cell markdown\n",
    "**Python** 是一個蠻好用的軟體\n",
    "1. 真的很不錯\n",
    "2. 十分好用\n",
    "\n",
    "---\n",
    " $e^2x_i$\n",
    " \n",
    " $$ f(x) = \\sum_{i=0}^{N} \\int_{a}^{b} g(t,i) \\text{d}t $$\n"
   ]
  },
  {
   "cell_type": "code",
   "execution_count": null,
   "id": "biblical-chapel",
   "metadata": {},
   "outputs": [],
   "source": []
  }
 ],
 "metadata": {
  "kernelspec": {
   "display_name": "Python 3",
   "language": "python",
   "name": "python3"
  },
  "language_info": {
   "codemirror_mode": {
    "name": "ipython",
    "version": 3
   },
   "file_extension": ".py",
   "mimetype": "text/x-python",
   "name": "python",
   "nbconvert_exporter": "python",
   "pygments_lexer": "ipython3",
   "version": "3.8.8"
  }
 },
 "nbformat": 4,
 "nbformat_minor": 5
}
