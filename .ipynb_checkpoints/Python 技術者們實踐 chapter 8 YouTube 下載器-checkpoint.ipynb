{
 "cells": [
  {
   "cell_type": "code",
   "execution_count": 2,
   "metadata": {},
   "outputs": [],
   "source": [
    "import tkinter as tk\n",
    "\n",
    "def click_func():\n",
    "    tkstr.set('被按了')\n",
    "\n",
    "# -- 主視窗 --\n",
    "window = tk.Tk()\n",
    "window.geometry('640x480')\n",
    "window.title('YouTube 極速下載器')\n",
    "\n",
    "# -- Frame --\n",
    "input_fm = tk.Frame(window, bg='red', width=640, height=120)\n",
    "input_fm.pack()\n",
    "\n",
    "# -- Button --\n",
    "tkstr = tk.StringVar()\n",
    "tkstr.set('請按我')\n",
    "btn = tk.Button(window, textvariable=tkstr, font=('細明體', 20), command=click_func)\n",
    "btn.pack() # 排版\n",
    "\n",
    "# -- Label --\n",
    "lb = tk.Label(window, bg='red', fg='white', text='請輸入 YouTube 網址', font=('細明體', 30), padx=50, pady=80)\n",
    "lb.pack()\n",
    "\n",
    "# -- 啟動主視窗 --\n",
    "window.mainloop()"
   ]
  },
  {
   "cell_type": "code",
   "execution_count": 1,
   "metadata": {},
   "outputs": [],
   "source": [
    "# 8-5.py 密碼輸入框\n",
    "import tkinter as tk\n",
    "\n",
    "def check_pw():\n",
    "    if pwvar.get()=='flag': # 取得使用者輸入內容，並判斷是否為 flag 字串\n",
    "        msgvar.set('密碼正確') # 設定 Label (lb_msg) 的文字內容\n",
    "    else:\n",
    "        msgvar.set('密碼錯誤')\n",
    "        \n",
    "# -- 主視窗 --\n",
    "window = tk.Tk()\n",
    "\n",
    "# -- Label : 提示輸入密碼 --\n",
    "lb_pw = tk.Label(window, text='輸入密碼')\n",
    "lb_pw.pack()\n",
    "\n",
    "# -- Entry：密碼的輸入文字框 --\n",
    "pwvar = tk.StringVar()\n",
    "entry = tk.Entry(window, width=15, textvariable=pwvar, show='*') #建立 Entry\n",
    "entry.pack()\n",
    "\n",
    "# --Button： 驗證密碼是否正確 --\n",
    "btn = tk.Button(window, text='驗證', command=check_pw) #建立button\n",
    "btn.pack()\n",
    "\n",
    "# --Label : 提示是否輸入正確 --\n",
    "msgvar = tk.StringVar()\n",
    "lb_msg = tk.Label(window, textvariable=msgvar)\n",
    "lb_msg.pack()\n",
    "\n",
    "# -- 啟動主視窗 --\n",
    "window.mainloop()"
   ]
  },
  {
   "cell_type": "code",
   "execution_count": 2,
   "metadata": {},
   "outputs": [],
   "source": [
    "# 8-6.py messagebox 對話框\n",
    "import tkinter as tk\n",
    "from tkinter import messagebox\n",
    "\n",
    "def hello():\n",
    "    messagebox.askyesno('提問對話框', '你好嗎？')\n",
    "    \n",
    "window = tk.Tk()\n",
    "btn = tk.Button(window, text='按鈕', command= hello)\n",
    "btn.pack()\n",
    "window.mainloop()"
   ]
  }
 ],
 "metadata": {
  "kernelspec": {
   "display_name": "Python 3",
   "language": "python",
   "name": "python3"
  },
  "language_info": {
   "codemirror_mode": {
    "name": "ipython",
    "version": 3
   },
   "file_extension": ".py",
   "mimetype": "text/x-python",
   "name": "python",
   "nbconvert_exporter": "python",
   "pygments_lexer": "ipython3",
   "version": "3.7.4"
  }
 },
 "nbformat": 4,
 "nbformat_minor": 2
}
