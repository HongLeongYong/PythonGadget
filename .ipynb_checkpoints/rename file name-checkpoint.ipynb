{
 "cells": [
  {
   "cell_type": "code",
   "execution_count": 6,
   "metadata": {},
   "outputs": [
    {
     "name": "stdout",
     "output_type": "stream",
     "text": [
      "E:\\抖音\\一栗小莎子\\【一栗小莎子】100.mp4\n",
      "E:\\抖音\\一栗小莎子\\【一栗小莎子】101.mp4\n",
      "E:\\抖音\\一栗小莎子\\【一栗小莎子】102.mp4\n",
      "E:\\抖音\\一栗小莎子\\【一栗小莎子】103.mp4\n",
      "E:\\抖音\\一栗小莎子\\【一栗小莎子】104.mp4\n",
      "E:\\抖音\\一栗小莎子\\【一栗小莎子】105.mp4\n",
      "E:\\抖音\\一栗小莎子\\【一栗小莎子】106.mp4\n",
      "E:\\抖音\\一栗小莎子\\【一栗小莎子】107.mp4\n",
      "E:\\抖音\\一栗小莎子\\【一栗小莎子】108.mp4\n",
      "E:\\抖音\\一栗小莎子\\【一栗小莎子】109.mp4\n",
      "E:\\抖音\\一栗小莎子\\【一栗小莎子】110.mp4\n",
      "E:\\抖音\\一栗小莎子\\【一栗小莎子】111.mp4\n",
      "E:\\抖音\\一栗小莎子\\【一栗小莎子】112.mp4\n",
      "E:\\抖音\\一栗小莎子\\【一栗小莎子】113.mp4\n",
      "E:\\抖音\\一栗小莎子\\【一栗小莎子】114.mp4\n"
     ]
    }
   ],
   "source": [
    "import os\n",
    "\n",
    "# 這是一個批量修改檔案名稱的有趣工具\n",
    "def batch_rename(path):\n",
    "    count = 0\n",
    "    for fname in os.listdir(path):\n",
    "        new_fname = str(count + 1) \n",
    "        print(os.path.join(path, fname))\n",
    "        os.rename(os.path.join(path, fname), os.path.join(path,'【一栗小莎子】'+ new_fname +'.mp4'))\n",
    "        count = count + 1\n",
    "\n",
    "batch_rename(r'E:\\抖音\\一栗小莎子')"
   ]
  },
  {
   "cell_type": "code",
   "execution_count": 7,
   "metadata": {},
   "outputs": [
    {
     "name": "stdout",
     "output_type": "stream",
     "text": [
      "['【一栗小莎子】1.mp4', '【一栗小莎子】10.mp4', '【一栗小莎子】11.mp4', '【一栗小莎子】12.mp4', '【一栗小莎子】13.mp4', '【一栗小莎子】14.mp4', '【一栗小莎子】15.mp4', '【一栗小莎子】2.mp4', '【一栗小莎子】3.mp4', '【一栗小莎子】4.mp4', '【一栗小莎子】5.mp4', '【一栗小莎子】6.mp4', '【一栗小莎子】7.mp4', '【一栗小莎子】8.mp4', '【一栗小莎子】9.mp4']\n"
     ]
    }
   ],
   "source": [
    "import os\n",
    "dirPath = r\"E:\\抖音\\一栗小莎子\"\n",
    "# 只顯示文件，檔案不顯示\n",
    "result = [f for f in os.listdir(dirPath) if os.path.isfile(os.path.join(dirPath, f))]\n",
    "print(result)"
   ]
  },
  {
   "cell_type": "code",
   "execution_count": 2,
   "metadata": {},
   "outputs": [
    {
     "name": "stdout",
     "output_type": "stream",
     "text": [
      "['E:\\\\抖音\\\\一栗小莎子\\\\【一栗小莎子】1.mp4', 'E:\\\\抖音\\\\一栗小莎子\\\\【一栗小莎子】10.mp4', 'E:\\\\抖音\\\\一栗小莎子\\\\【一栗小莎子】11.mp4', 'E:\\\\抖音\\\\一栗小莎子\\\\【一栗小莎子】12.mp4', 'E:\\\\抖音\\\\一栗小莎子\\\\【一栗小莎子】13.mp4', 'E:\\\\抖音\\\\一栗小莎子\\\\【一栗小莎子】14.mp4', 'E:\\\\抖音\\\\一栗小莎子\\\\【一栗小莎子】15.mp4', 'E:\\\\抖音\\\\一栗小莎子\\\\【一栗小莎子】2.mp4', 'E:\\\\抖音\\\\一栗小莎子\\\\【一栗小莎子】3.mp4', 'E:\\\\抖音\\\\一栗小莎子\\\\【一栗小莎子】4.mp4', 'E:\\\\抖音\\\\一栗小莎子\\\\【一栗小莎子】5.mp4', 'E:\\\\抖音\\\\一栗小莎子\\\\【一栗小莎子】6.mp4', 'E:\\\\抖音\\\\一栗小莎子\\\\【一栗小莎子】7.mp4', 'E:\\\\抖音\\\\一栗小莎子\\\\【一栗小莎子】8.mp4', 'E:\\\\抖音\\\\一栗小莎子\\\\【一栗小莎子】9.mp4']\n"
     ]
    }
   ],
   "source": [
    "import glob\n",
    "dirPathPattern = r\"E:\\抖音\\一栗小莎子\\*.*\"\n",
    "result = glob.glob(dirPathPattern)\n",
    "print(result)"
   ]
  },
  {
   "cell_type": "code",
   "execution_count": null,
   "metadata": {},
   "outputs": [],
   "source": []
  }
 ],
 "metadata": {
  "kernelspec": {
   "display_name": "Python 3",
   "language": "python",
   "name": "python3"
  },
  "language_info": {
   "codemirror_mode": {
    "name": "ipython",
    "version": 3
   },
   "file_extension": ".py",
   "mimetype": "text/x-python",
   "name": "python",
   "nbconvert_exporter": "python",
   "pygments_lexer": "ipython3",
   "version": "3.8.5"
  }
 },
 "nbformat": 4,
 "nbformat_minor": 4
}
