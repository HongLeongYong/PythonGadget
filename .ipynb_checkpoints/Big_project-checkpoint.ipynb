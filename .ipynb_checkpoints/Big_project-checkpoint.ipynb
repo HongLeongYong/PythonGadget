{
 "cells": [
  {
   "cell_type": "code",
   "execution_count": null,
   "metadata": {},
   "outputs": [],
   "source": [
    "# 目前需要寫的三個程式\n",
    "\n",
    "# 新下載檔案歸類\n",
    "# 讀取目前檔案下所有mp4的檔名\n",
    "# 分離出“【】\" 下的字樣\n",
    "# 把資料丟到對應同名字的檔案中，如果沒有的話就開一個新的，或者放到待處理\n",
    "\n",
    "# 待處理檔案歸類\n",
    "# 讀取目前檔案下所有mp4的檔名\n",
    "# 分離出“【】\" 下的字樣\n",
    "# 計算\"【】\"出現的次數，如果超過5個就開新的檔案\n",
    "\n",
    "# 格式轉換程式\n",
    "# json csv \n",
    "\n",
    "\n"
   ]
  },
  {
   "cell_type": "code",
   "execution_count": null,
   "metadata": {},
   "outputs": [],
   "source": [
    "import pandas as pd\n",
    "import json\n",
    "\n",
    "data = '''\n",
    "{\n",
    "\"Results\":\n",
    "         [\n",
    "         { \"id\": \"1\", \"Name\": \"Jay\" },\n",
    "         { \"id\": \"2\", \"Name\": \"Mark\" },\n",
    "         { \"id\": \"3\", \"Name\": \"Jack\" }\n",
    "         ],\n",
    "\"status\": [\"ok\"]\n",
    "}\n",
    "'''\n",
    "\n",
    "info = json.loads(data)\n",
    "\n",
    "df = pd.json_normalize(info['Results'])\n",
    "\n",
    "df.to_csv(\"samplecsv.csv\")"
   ]
  }
 ],
 "metadata": {
  "kernelspec": {
   "display_name": "Python 3",
   "language": "python",
   "name": "python3"
  },
  "language_info": {
   "codemirror_mode": {
    "name": "ipython",
    "version": 3
   },
   "file_extension": ".py",
   "mimetype": "text/x-python",
   "name": "python",
   "nbconvert_exporter": "python",
   "pygments_lexer": "ipython3",
   "version": "3.8.5"
  }
 },
 "nbformat": 4,
 "nbformat_minor": 4
}
