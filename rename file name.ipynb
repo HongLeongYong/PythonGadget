{
 "cells": [
  {
   "cell_type": "code",
   "execution_count": 14,
   "metadata": {},
   "outputs": [
    {
     "name": "stdout",
     "output_type": "stream",
     "text": [
      "C:\\Users\\yongh\\Desktop\\math\\0.mp4\n",
      "C:\\Users\\yongh\\Desktop\\math\\1.mp4\n",
      "C:\\Users\\yongh\\Desktop\\math\\2.mp4\n",
      "C:\\Users\\yongh\\Desktop\\math\\3.mp4\n",
      "C:\\Users\\yongh\\Desktop\\math\\4.mp4\n",
      "C:\\Users\\yongh\\Desktop\\math\\5.mp4\n",
      "C:\\Users\\yongh\\Desktop\\math\\6.mp4\n",
      "C:\\Users\\yongh\\Desktop\\math\\7.mp4\n",
      "C:\\Users\\yongh\\Desktop\\math\\8.mp4\n",
      "C:\\Users\\yongh\\Desktop\\math\\9.mp4\n"
     ]
    }
   ],
   "source": [
    "import os\n",
    "\n",
    "# 這是一個批量修改檔案名稱的有趣工具\n",
    "def batch_rename(path):\n",
    "    count = 0\n",
    "    for fname in os.listdir(path):\n",
    "        new_fname = str(count)\n",
    "        print(os.path.join(path, fname))\n",
    "        os.rename(os.path.join(path, fname), os.path.join(path,'【抖音】'+ new_fname+'.mp4'))\n",
    "        count = count + 1\n",
    "\n",
    "batch_rename(r'C:\\Users\\yongh\\Desktop\\math')"
   ]
  },
  {
   "cell_type": "code",
   "execution_count": null,
   "metadata": {},
   "outputs": [],
   "source": []
  },
  {
   "cell_type": "code",
   "execution_count": null,
   "metadata": {},
   "outputs": [],
   "source": []
  }
 ],
 "metadata": {
  "kernelspec": {
   "display_name": "Python 3",
   "language": "python",
   "name": "python3"
  },
  "language_info": {
   "codemirror_mode": {
    "name": "ipython",
    "version": 3
   },
   "file_extension": ".py",
   "mimetype": "text/x-python",
   "name": "python",
   "nbconvert_exporter": "python",
   "pygments_lexer": "ipython3",
   "version": "3.8.5"
  }
 },
 "nbformat": 4,
 "nbformat_minor": 4
}
