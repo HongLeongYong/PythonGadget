{
 "cells": [
  {
   "cell_type": "markdown",
   "metadata": {},
   "source": [
    "# 14/07/2021 星期三 測試"
   ]
  },
  {
   "cell_type": "code",
   "execution_count": 1,
   "metadata": {},
   "outputs": [
    {
     "data": {
      "text/plain": [
       "False"
      ]
     },
     "execution_count": 1,
     "metadata": {},
     "output_type": "execute_result"
    }
   ],
   "source": [
    "1>2"
   ]
  },
  {
   "cell_type": "code",
   "execution_count": 7,
   "metadata": {},
   "outputs": [
    {
     "name": "stdout",
     "output_type": "stream",
     "text": [
      "2\n",
      "2.0\n",
      "11\n"
     ]
    }
   ],
   "source": [
    "word = '1'\n",
    "print(1 + int(word))\n",
    "print(1 + float(word))\n",
    "print(str(1) + word)"
   ]
  },
  {
   "cell_type": "markdown",
   "metadata": {},
   "source": [
    "# 16/07/2021 星期五 測試"
   ]
  },
  {
   "cell_type": "code",
   "execution_count": 1,
   "metadata": {},
   "outputs": [
    {
     "data": {
      "text/plain": [
       "2.5"
      ]
     },
     "execution_count": 1,
     "metadata": {},
     "output_type": "execute_result"
    }
   ],
   "source": [
    "abs(2.5)"
   ]
  },
  {
   "cell_type": "code",
   "execution_count": 2,
   "metadata": {},
   "outputs": [
    {
     "name": "stdout",
     "output_type": "stream",
     "text": [
      "2\n",
      "2\n"
     ]
    }
   ],
   "source": [
    "#四捨六入五成雙\n",
    "print(round(1.5))\n",
    "print(round(2.5))"
   ]
  },
  {
   "cell_type": "code",
   "execution_count": 4,
   "metadata": {},
   "outputs": [
    {
     "name": "stdout",
     "output_type": "stream",
     "text": [
      "True\n",
      "True\n"
     ]
    }
   ],
   "source": [
    "# \"is\" 和 \"is not\" 是比較ID是否一樣\n",
    "# == 是比較內容\n",
    "a = 1\n",
    "b = 2-1\n",
    "print(a is b)\n",
    "print(a == b)"
   ]
  },
  {
   "cell_type": "markdown",
   "metadata": {},
   "source": [
    "# 17/07/2021 星期六 練習\n",
    "## list"
   ]
  },
  {
   "cell_type": "code",
   "execution_count": 8,
   "metadata": {},
   "outputs": [
    {
     "name": "stdout",
     "output_type": "stream",
     "text": [
      "蘋果\n",
      "['P', 'y', 't', 'h', 'o', 'n', ' ', '你', '好', '!']\n",
      "b[2] =  3\n",
      "b[2] =  abc\n",
      "82\n"
     ]
    }
   ],
   "source": [
    "fruits = ['蘋果','香蕉','芭樂']\n",
    "print(fruits[0])\n",
    "\n",
    "# 西瓜，45一斤，目前缺貨\n",
    "a = ['西瓜',45,False]\n",
    "\n",
    "s = list(\"Python 你好!\")\n",
    "print(s)\n",
    "\n",
    "# list 的索引\n",
    "b = [1,2,3]\n",
    "print(\"b[2] = \" , b[2])\n",
    "b[2] = 'abc'\n",
    "print(\"b[2] = \" , b[2])\n",
    "\n",
    "## 多層容器\n",
    "fruits = [['蘋果', 82], ['香蕉', 45], ['芭樂', 59]]\n",
    "print(fruits[0][1])"
   ]
  },
  {
   "cell_type": "markdown",
   "metadata": {},
   "source": [
    "# 18/07/2021 星期天 練習"
   ]
  },
  {
   "cell_type": "code",
   "execution_count": 2,
   "metadata": {},
   "outputs": [
    {
     "name": "stdout",
     "output_type": "stream",
     "text": [
      "['e', 'l']\n"
     ]
    }
   ],
   "source": [
    "# 容器 slicing 切片\n",
    "a = list(\"helloworld\")\n",
    "print(a[1:3]) # 回傳索引1到2的list"
   ]
  },
  {
   "cell_type": "code",
   "execution_count": 9,
   "metadata": {},
   "outputs": [
    {
     "name": "stdout",
     "output_type": "stream",
     "text": [
      "[2, 4, 6]\n",
      "[1, 5, 'AB', 4, 5, 6]\n",
      "[1, 'a', 'b', 'c']\n",
      "[1, 'b', 'c']\n",
      "True\n"
     ]
    }
   ],
   "source": [
    "s = [1,2,3,4,5,6]\n",
    "print(s[1:6:2])\n",
    "\n",
    "s[1:3] = [5,'AB']\n",
    "print(s)\n",
    "\n",
    "s[1:] = \"abc\" #後面的東西會不見\n",
    "print(s)\n",
    "\n",
    "del s[1]\n",
    "print(s)\n",
    "\n",
    "print(1 in s)"
   ]
  },
  {
   "cell_type": "markdown",
   "metadata": {},
   "source": [
    "## tuple : 不可更改的串列\n",
    "適合用於 重要數據、運行速度快、可以和list混用"
   ]
  },
  {
   "cell_type": "code",
   "execution_count": 3,
   "metadata": {},
   "outputs": [
    {
     "name": "stdout",
     "output_type": "stream",
     "text": [
      "甲\n",
      "(0, 1, 2, 3)\n"
     ]
    }
   ],
   "source": [
    "grade = ('甲','乙','丙','丁'); order = [0, 1, 2, 3]\n",
    "\n",
    "print(grade[0])\n",
    "\n",
    "order2 = tuple(order)\n",
    "print(order2)"
   ]
  },
  {
   "cell_type": "markdown",
   "metadata": {},
   "source": [
    "## set： 一堆資料的集合\n",
    "* 隨機擺放資料，沒有固定位置\n",
    "* 資料唯一、不可重複"
   ]
  },
  {
   "cell_type": "code",
   "execution_count": 7,
   "metadata": {},
   "outputs": [
    {
     "name": "stdout",
     "output_type": "stream",
     "text": [
      "{0, 1, 2}\n",
      "True\n"
     ]
    }
   ],
   "source": [
    "myset = {0, 1, 2, 1}\n",
    "print(myset) #資料不可重複，所以‘1’只會出現一次\n",
    "\n",
    "# 由於沒有排序，所以不可用切片（slicing) 和 索引算符 []\n",
    "print(1 in myset) #output:  True\n"
   ]
  },
  {
   "cell_type": "markdown",
   "metadata": {},
   "source": [
    "## dict: 以鍵查值的字典\n",
    "* [鍵:值]\n",
    "* 鍵必需唯一，但值可以重複\n",
    "* 沒有順序排列"
   ]
  },
  {
   "cell_type": "code",
   "execution_count": 5,
   "metadata": {},
   "outputs": [
    {
     "name": "stdout",
     "output_type": "stream",
     "text": [
      "{'A': 3, 'B': 2}\n",
      "25\n",
      "True\n",
      "False\n",
      "201\n"
     ]
    }
   ],
   "source": [
    "a = {'A':1, 'B':2, 'A':3} # 如果鍵重複，新的值將會蓋掉舊的\n",
    "print(a)\n",
    "\n",
    "# 用索引符 [] 取值\n",
    "d = {'紅茶':25, '果汁':45}\n",
    "print(d['紅茶'])\n",
    "\n",
    "# 算符\n",
    "print('紅茶' in d) # output: True\n",
    "print (25 in d) # output: False\n",
    "\n",
    "# 用tuple做键\n",
    "extno = {('王','小明'):201, ('陳','美美'):202, ('張','天才'):203}\n",
    "# print(extno[0]) #output: error\n",
    "print(extno['王','小明'])"
   ]
  },
  {
   "cell_type": "markdown",
   "metadata": {},
   "source": [
    "# 字串也是一種資料結構\n",
    "* 有順序排列\n",
    "* 有許多函式可以使用\n",
    "* min() max() sum() len()\n",
    "* sorted() reversed()\n"
   ]
  },
  {
   "cell_type": "code",
   "execution_count": 9,
   "metadata": {},
   "outputs": [
    {
     "name": "stdout",
     "output_type": "stream",
     "text": [
      "1\n",
      "135\n"
     ]
    }
   ],
   "source": [
    "s = '0123456'\n",
    "print(s[1])\n",
    "print(s[1:6:2])"
   ]
  },
  {
   "cell_type": "code",
   "execution_count": 10,
   "metadata": {},
   "outputs": [
    {
     "name": "stdout",
     "output_type": "stream",
     "text": [
      "3 1 6\n"
     ]
    }
   ],
   "source": [
    "# 字典也可以用 max min sum,可是只有鍵\n",
    "d = {1:4, 2:5, 3:6}\n",
    "print(max(d), min(d), sum(d))"
   ]
  },
  {
   "cell_type": "code",
   "execution_count": 14,
   "metadata": {},
   "outputs": [
    {
     "data": {
      "text/plain": [
       "[3, 2, 1]"
      ]
     },
     "execution_count": 14,
     "metadata": {},
     "output_type": "execute_result"
    }
   ],
   "source": [
    "sorted([3,1,2],reverse= True) #大到小"
   ]
  },
  {
   "cell_type": "code",
   "execution_count": 3,
   "metadata": {},
   "outputs": [
    {
     "name": "stdout",
     "output_type": "stream",
     "text": [
      "('c', 'a', 'd', 'b')\n",
      "[0, 3, 2, 1]\n"
     ]
    }
   ],
   "source": [
    "print(tuple(reversed('bdac'))) #把字串的字元反轉\n",
    "print(list(reversed([1,2,3,0]))) # 把list中的元素反轉\n"
   ]
  },
  {
   "cell_type": "markdown",
   "metadata": {},
   "source": [
    "# 2-7 容器相關的方法(Method)\n",
    "## 關於 LIST\n",
    "* sort() & reverse() 是 list的專屬\n",
    "* sorted() & reversed() , string,list,tuple,set,dict 都能用\n",
    "\n",
    "list 元素新增與串接 ： insert 、 append 、 extend"
   ]
  },
  {
   "cell_type": "code",
   "execution_count": 6,
   "metadata": {},
   "outputs": [
    {
     "name": "stdout",
     "output_type": "stream",
     "text": [
      "01 insert: [0, 9, 1, 2]\n",
      "02 append: [0, 9, 1, 2, 3]\n",
      "03 extend: [0, 9, 1, 2, 3, 4, 5]\n",
      "04 += : [0, 9, 1, 2, 3, 4, 5, 6, 7]\n"
     ]
    }
   ],
   "source": [
    "s = [0, 1, 2]\n",
    "\n",
    "s.insert(1,9)\n",
    "print(\"01 insert:\",s)\n",
    "\n",
    "s.append(3)\n",
    "print(\"02 append:\",s)\n",
    "\n",
    "s.extend([4,5])\n",
    "print(\"03 extend:\",s)\n",
    "\n",
    "s += [6,7]\n",
    "print(\"04 += :\",s)\n"
   ]
  },
  {
   "cell_type": "markdown",
   "metadata": {},
   "source": [
    "list 元素： index, count, remove, clear , pop, copy"
   ]
  },
  {
   "cell_type": "code",
   "execution_count": 9,
   "metadata": {},
   "outputs": [
    {
     "name": "stdout",
     "output_type": "stream",
     "text": [
      "[1, 1, 0]\n",
      "[2, 1, 0]\n"
     ]
    }
   ],
   "source": [
    "s = [ 1, 2, 1, 0]\n",
    "s.pop(1) # 刪除索引1的東西 # pop() 沒放東西就會刪除最後一個\n",
    "print(s)\n",
    "\n",
    "b = [1, 2, 1, 0]\n",
    "b.remove(1)  # 刪除第一個“1”\n",
    "print(b)"
   ]
  },
  {
   "cell_type": "markdown",
   "metadata": {},
   "source": [
    "## 關於 tuple\n",
    "* 只有 count() , index()"
   ]
  },
  {
   "cell_type": "code",
   "execution_count": 2,
   "metadata": {},
   "outputs": [
    {
     "name": "stdout",
     "output_type": "stream",
     "text": [
      "2\n",
      "3\n"
     ]
    }
   ],
   "source": [
    "t = ('a','b','c','d','d')\n",
    "\n",
    "print(t.count('d'))\n",
    "print(t.index('d'))"
   ]
  },
  {
   "cell_type": "markdown",
   "metadata": {},
   "source": [
    "## 關於 string\n",
    "* upper() lower() 轉成大寫，小寫\n",
    "* isalpha() , isdigit() , isalnum() 檢查資源全部是英文字、數字、英數字 * RETURN TRUE FALSE\n",
    "\n",
    "### 字元尋找與取代\n",
    "* find('xx') , rfind('xx') 尋找第一個、尋找最後一個\n",
    "* startswith('xx') endswith('xx')  查詢開頭或者結尾是否正確 * RETURN TRUE FALSE\n",
    "* replace('AB','c')\n"
   ]
  },
  {
   "cell_type": "code",
   "execution_count": 8,
   "metadata": {},
   "outputs": [
    {
     "name": "stdout",
     "output_type": "stream",
     "text": [
      "True\n",
      "8\n",
      "l\n"
     ]
    }
   ],
   "source": [
    "w = \"helloworld\"\n",
    "print(w.isalpha())\n",
    "print(w.rfind('l'))\n",
    "print(w[8])"
   ]
  },
  {
   "cell_type": "markdown",
   "metadata": {},
   "source": [
    "### 字串的去頭尾\n",
    "* strip() 刪除左右連續空白\n",
    "* lstrip() 刪除左側連續空白\n",
    "* rstrip() 刪除右側連續空白\n",
    "* 如果在() 加入 ('-')，就會刪除連續 '-'\n",
    "### 字串切割與組裝\n",
    "* split('x') * 'x'.join(容器)"
   ]
  },
  {
   "cell_type": "code",
   "execution_count": 11,
   "metadata": {},
   "outputs": [
    {
     "name": "stdout",
     "output_type": "stream",
     "text": [
      "hello--world\n"
     ]
    }
   ],
   "source": [
    "w = \"--hello--world--\"\n",
    "print(w.strip('-'))"
   ]
  },
  {
   "cell_type": "code",
   "execution_count": 5,
   "metadata": {},
   "outputs": [
    {
     "name": "stdout",
     "output_type": "stream",
     "text": [
      "['1', '2', '3']\n",
      "a or b or c\n",
      "a or b or c\n"
     ]
    }
   ],
   "source": [
    "w = \"1,2,3\"\n",
    "print(w.split(','))\n",
    "\n",
    "print(' or '.join({'a','b','c'})) #set 是無順序的，要小心，可能會變成 c b a\n",
    "print(' or '.join(['a','b','c']))"
   ]
  },
  {
   "cell_type": "markdown",
   "metadata": {},
   "source": [
    "## 關於 set\n",
    "* add(2) #加入2 \n",
    "* remove(2) #刪除2 \n",
    "* pop() #隨機取出一個\n",
    "-----------------------------\n",
    "* set1.issubset(set2) 判斷是否為子集合 return TRUE FALSE\n",
    "* set1.issuperset(set2) 判斷是否為超集合 return TRUE FALSE\n",
    "-----------------------------\n",
    "* copy() clear()"
   ]
  },
  {
   "cell_type": "code",
   "execution_count": 9,
   "metadata": {},
   "outputs": [
    {
     "name": "stdout",
     "output_type": "stream",
     "text": [
      "True\n",
      "True\n"
     ]
    }
   ],
   "source": [
    "s = {1,2,3};t={1,2,3}\n",
    "print(s.issubset(t))\n",
    "print(s.issuperset(t))"
   ]
  },
  {
   "cell_type": "markdown",
   "metadata": {},
   "source": [
    "## 關於 dict\n",
    "* copy() clear()\n",
    "* keys() values() items() 可以整批讀取 鍵、值、（鍵與值） RETURN dict_keys、 dict_values、dict_items\n"
   ]
  },
  {
   "cell_type": "code",
   "execution_count": 4,
   "metadata": {},
   "outputs": [
    {
     "name": "stdout",
     "output_type": "stream",
     "text": [
      "dict_items([(1, 3), (2, 4)])\n",
      "<class 'dict_items'>\n",
      "[(1, 3), (2, 4)]\n"
     ]
    }
   ],
   "source": [
    "d = {1:3, 2:4}\n",
    "\n",
    "print(d.items())\n",
    "\n",
    "print(type(d.items()))\n",
    "\n",
    "myList = list(d.items()) #轉換成list\n",
    "print(myList)"
   ]
  },
  {
   "cell_type": "markdown",
   "metadata": {},
   "source": [
    "# 第二章補充\n"
   ]
  },
  {
   "cell_type": "code",
   "execution_count": 3,
   "metadata": {},
   "outputs": [
    {
     "name": "stdout",
     "output_type": "stream",
     "text": [
      "張天才 外號老張,ID:1011\n",
      "張天才 外號老張,ID:1011\n"
     ]
    }
   ],
   "source": [
    "# 用多個變數來代表右邊容器的元素\n",
    "# 例子01\n",
    "# bad：\n",
    "a = (1011,('張天才', '老張'))\n",
    "print(a[1][0] + ' 外號' + a[1][1] + ',ID:' + str(a[0]))\n",
    "# good\n",
    "(person_id, (name, nick)) = (1011,('張天才', '老張')) #更容易讓他人呼叫了\n",
    "print(name + ' 外號' + nick + ',ID:' + str(person_id))"
   ]
  },
  {
   "cell_type": "code",
   "execution_count": 4,
   "metadata": {},
   "outputs": [
    {
     "name": "stdout",
     "output_type": "stream",
     "text": [
      "1 [2, 3, 4] 5\n"
     ]
    }
   ],
   "source": [
    "# 用 * 打包多元素\n",
    "x, *y, z = 1, 2, 3, 4, 5\n",
    "print(x,y,z)"
   ]
  },
  {
   "cell_type": "code",
   "execution_count": 8,
   "metadata": {},
   "outputs": [
    {
     "name": "stdout",
     "output_type": "stream",
     "text": [
      "2 1\n"
     ]
    }
   ],
   "source": [
    "# 互換變數的值\n",
    "a, b = 1, 2\n",
    "a, b = (b, a)\n",
    "print(a, b)"
   ]
  },
  {
   "cell_type": "markdown",
   "metadata": {},
   "source": [
    "# 第三章 python 的流程控制"
   ]
  },
  {
   "cell_type": "code",
   "execution_count": 5,
   "metadata": {},
   "outputs": [
    {
     "name": "stdout",
     "output_type": "stream",
     "text": [
      "蘋果、柳丁、香蕉很好吃\n",
      "2 和 3 相乘的結果是      +6.0\n"
     ]
    }
   ],
   "source": [
    "# print 的使用方式\n",
    "print('蘋果','柳丁','香蕉', sep = '、', end='很好吃\\n') #如果沒有放\\n將不會換行\n",
    "\n",
    "a, b = 2, 3\n",
    "print(f'{a} 和 {b} 相乘的結果是{a*b:+10.1f}') #f 浮點數、 d 整數、s 字串"
   ]
  },
  {
   "cell_type": "code",
   "execution_count": 3,
   "metadata": {},
   "outputs": [
    {
     "name": "stdout",
     "output_type": "stream",
     "text": [
      "1\n",
      "1\n"
     ]
    }
   ],
   "source": [
    "# if \n",
    "# 傳統寫法 \n",
    "c = 6\n",
    "if c > 5:\n",
    "    a = 1\n",
    "else:\n",
    "    a = 2\n",
    "print(a)  \n",
    "\n",
    "# 新式寫法\n",
    "b = 1 if c > 5 else 2\n",
    "print(b)"
   ]
  },
  {
   "cell_type": "code",
   "execution_count": 5,
   "metadata": {},
   "outputs": [
    {
     "name": "stdout",
     "output_type": "stream",
     "text": [
      "89.10000000000001\n"
     ]
    }
   ],
   "source": [
    "price = 99\n",
    "price = price * 0.8 if price > 99 else price *0.9\n",
    "print(price)"
   ]
  },
  {
   "cell_type": "code",
   "execution_count": 8,
   "metadata": {},
   "outputs": [
    {
     "name": "stdout",
     "output_type": "stream",
     "text": [
      "1 2 3 4 6 7 8 9 10 結束\n",
      "請輸入通關密語：你好\n",
      "不對哦！\n",
      "請輸入通關密語：\n",
      "請輸入通關密語：hello\n",
      "不對哦！\n",
      "請輸入通關密語：喵喵\n",
      "恭喜你過關了\n",
      "再見\n"
     ]
    }
   ],
   "source": [
    "# while 迴圈： 依條件重複執行\n",
    "# while 搭配 continue 和 break\n",
    "i = 1\n",
    "while True:\n",
    "    if i == 5 :\n",
    "        i += 1\n",
    "        continue #5就直接不印了\n",
    "    print(i,end = \" \")\n",
    "    if i == 10:\n",
    "        break\n",
    "    i += 1\n",
    "print('結束')\n",
    "\n",
    "# while  / else ， 如果滿足不了while條件，就會執行 else\n",
    "s = ''\n",
    "while s != '喵喵':\n",
    "    if s != '' : print('不對哦！')\n",
    "    s = input('請輸入通關密語：')\n",
    "    if s == 'out':\n",
    "        break\n",
    "else:\n",
    "    print('恭喜你過關了') #正常結束時才顯示成功訊息\n",
    "print('再見')"
   ]
  },
  {
   "cell_type": "code",
   "execution_count": 3,
   "metadata": {},
   "outputs": [
    {
     "name": "stdout",
     "output_type": "stream",
     "text": [
      "0 1 2 3 a 0\n",
      "b 1\n",
      "c 2\n"
     ]
    }
   ],
   "source": [
    "# 3-3  for 迴圈\n",
    "s = [0, 1, 2, 3]\n",
    "for a in s:\n",
    "    print(a, end = ' ')"
   ]
  },
  {
   "cell_type": "code",
   "execution_count": 4,
   "metadata": {},
   "outputs": [
    {
     "name": "stdout",
     "output_type": "stream",
     "text": [
      "a 0\n",
      "b 1\n",
      "c 2\n"
     ]
    }
   ],
   "source": [
    "d = {'a':0, 'b':1, 'c':2}\n",
    "for key, value in d.items():\n",
    "    print(key, value)"
   ]
  },
  {
   "cell_type": "code",
   "execution_count": 7,
   "metadata": {},
   "outputs": [
    {
     "name": "stdout",
     "output_type": "stream",
     "text": [
      "0 1 2 3 4 5 6 7 8 9 \n",
      "1 2 3 4 5 6 7 8 9 10 "
     ]
    }
   ],
   "source": [
    "for i in range(10):\n",
    "    print(i, end = ' ')\n",
    "print()\n",
    "    \n",
    "for j in range(1,11):\n",
    "    print(j, end = ' ')"
   ]
  },
  {
   "cell_type": "code",
   "execution_count": 10,
   "metadata": {},
   "outputs": [
    {
     "name": "stdout",
     "output_type": "stream",
     "text": [
      "[(5, '紅茶'), (6, '咖啡'), (7, '果汁')]\n"
     ]
    }
   ],
   "source": [
    "# enumerate() 產生元素有序號的容器\n",
    "drinks = ('紅茶', '咖啡', '果汁')\n",
    "print(list(enumerate(drinks, 5)))"
   ]
  },
  {
   "cell_type": "code",
   "execution_count": 11,
   "metadata": {},
   "outputs": [
    {
     "name": "stdout",
     "output_type": "stream",
     "text": [
      "紅茶 35 元, 建議甜點: 餅乾\n",
      "咖啡 50 元, 建議甜點: 蛋糕\n",
      "果汁 65 元, 建議甜點: 三明治\n"
     ]
    }
   ],
   "source": [
    "# zip() 同時走訪多個容器\n",
    "drinks = ('紅茶', '咖啡', '果汁')\n",
    "prices = (35, 50, 65)\n",
    "matchs = ('餅乾', '蛋糕', '三明治', '鬆餅')\n",
    "\n",
    "for drink, price , match in zip(drinks, prices, matchs):\n",
    "    print(drink, price, '元, 建議甜點: '+ match)"
   ]
  },
  {
   "cell_type": "code",
   "execution_count": 15,
   "metadata": {},
   "outputs": [
    {
     "name": "stdout",
     "output_type": "stream",
     "text": [
      "[1, 4, 9, 16, 25]\n",
      "{1: 1, 2: 4, 3: 9, 4: 16, 5: 25}\n",
      "<class 'generator'>\n",
      "(1, 4, 9, 16, 25)\n"
     ]
    }
   ],
   "source": [
    "# for 的容器生產式\n",
    "# 自動生產串列、字典等\n",
    "print([i*i for i in range(1,6)])\n",
    "print({i: i*i for i in range(1,6)})\n",
    "\n",
    "# 這一些生產出來的東西不是真正的 tuple，而是 動態容器 generator\n",
    "a = (i*i for i in range(1,6))\n",
    "print(type(a))\n",
    "\n",
    "# 可以把這些東西變成 tuple，只能變一次，因為 generator 無法重複使用\n",
    "print(tuple(a))"
   ]
  },
  {
   "cell_type": "code",
   "execution_count": 17,
   "metadata": {},
   "outputs": [
    {
     "name": "stdout",
     "output_type": "stream",
     "text": [
      "[1, 2, 3, 5, 6, 7, 8, 9]\n"
     ]
    }
   ],
   "source": [
    "a = [[1, 2, 3], [4, 5, 6], [7, 8, 9]]\n",
    "print([e2 for e1 in a for e2 in e1 if e2 != 4])\n",
    "\n",
    "'''\n",
    "相等於\n",
    "a = [[1, 2, 3], [4, 5, 6], [7, 8, 9]]\n",
    "b = []\n",
    "for e1 in a:\n",
    "    for e2 in e1:\n",
    "        if e2 != 4:\n",
    "            b.append(e2)\n",
    "print(b)\n",
    "'''"
   ]
  },
  {
   "cell_type": "code",
   "execution_count": 1,
   "metadata": {},
   "outputs": [
    {
     "ename": "ValueError",
     "evalue": "invalid literal for int() with base 10: 'a'",
     "output_type": "error",
     "traceback": [
      "\u001b[1;31m---------------------------------------------------------------------------\u001b[0m",
      "\u001b[1;31mValueError\u001b[0m                                Traceback (most recent call last)",
      "\u001b[1;32m<ipython-input-1-c7a37691a5aa>\u001b[0m in \u001b[0;36m<module>\u001b[1;34m\u001b[0m\n\u001b[0;32m      1\u001b[0m \u001b[1;31m# 3-4 例外處理\u001b[0m\u001b[1;33m\u001b[0m\u001b[1;33m\u001b[0m\u001b[1;33m\u001b[0m\u001b[0m\n\u001b[0;32m      2\u001b[0m \u001b[1;31m# 製造錯誤\u001b[0m\u001b[1;33m\u001b[0m\u001b[1;33m\u001b[0m\u001b[1;33m\u001b[0m\u001b[0m\n\u001b[1;32m----> 3\u001b[1;33m \u001b[0mint\u001b[0m\u001b[1;33m(\u001b[0m\u001b[1;34m'a'\u001b[0m\u001b[1;33m)\u001b[0m\u001b[1;33m\u001b[0m\u001b[1;33m\u001b[0m\u001b[0m\n\u001b[0m",
      "\u001b[1;31mValueError\u001b[0m: invalid literal for int() with base 10: 'a'"
     ]
    }
   ],
   "source": [
    "# 3-4 例外處理\n",
    "# 製造錯誤\n",
    "int('a')"
   ]
  },
  {
   "cell_type": "code",
   "execution_count": 2,
   "metadata": {},
   "outputs": [
    {
     "name": "stdout",
     "output_type": "stream",
     "text": [
      "發生例外了！\n",
      "程式結束\n"
     ]
    }
   ],
   "source": [
    "s = 'a'\n",
    "try:\n",
    "    i = int(s)\n",
    "    print('沒發生例外')\n",
    "except:\n",
    "    print('發生例外了！')\n",
    "print('程式結束')"
   ]
  },
  {
   "cell_type": "code",
   "execution_count": 3,
   "metadata": {},
   "outputs": [
    {
     "name": "stdout",
     "output_type": "stream",
     "text": [
      "division by zero\n"
     ]
    }
   ],
   "source": [
    "# except 特定例外類型 as 變數名稱\n",
    "try:\n",
    "    a = 1/0\n",
    "except ZeroDivisionError as e:\n",
    "    print(e)\n",
    "    \n",
    "\n",
    "# try:/ except: Base Exception(通用例外) / else: 未發生例外的時候要執行 / finally： 無論如何都要執行"
   ]
  },
  {
   "cell_type": "code",
   "execution_count": 2,
   "metadata": {},
   "outputs": [
    {
     "name": "stdout",
     "output_type": "stream",
     "text": [
      "2和3 相乘的結果是 +6.0\n",
      "42,101010,0X2A\n"
     ]
    }
   ],
   "source": [
    "# 第三章補充學習 \n",
    "# 字串的格式化功能\n",
    "# 01 放一個 f 在前\n",
    "a,b = 2,3\n",
    "print(f'{a}和{b} 相乘的結果是{a*b:+5.1f}')\n",
    "\n",
    "print(f'{42:d},{42:b},{42:#X}')"
   ]
  },
  {
   "cell_type": "code",
   "execution_count": 3,
   "metadata": {},
   "outputs": [
    {
     "name": "stdout",
     "output_type": "stream",
     "text": [
      "3-1=2\n"
     ]
    }
   ],
   "source": [
    "# 02 使用 format() 方式\n",
    "print('{b}-1={a}'.format(a=2,b=3))\n"
   ]
  },
  {
   "cell_type": "code",
   "execution_count": 4,
   "metadata": {},
   "outputs": [
    {
     "name": "stdout",
     "output_type": "stream",
     "text": [
      "價格 :  59.20\n"
     ]
    }
   ],
   "source": [
    "# 03  使用 % \n",
    "print(\"%s : %6.2f\" % ('價格', 59.2))\n",
    "# %d 整數 %f 浮點數 %s 字串"
   ]
  },
  {
   "cell_type": "markdown",
   "metadata": {},
   "source": [
    "# 第四章 函式"
   ]
  },
  {
   "cell_type": "code",
   "execution_count": 5,
   "metadata": {},
   "outputs": [
    {
     "name": "stdout",
     "output_type": "stream",
     "text": [
      "我是帥哥\n"
     ]
    }
   ],
   "source": [
    "def hongleong():\n",
    "    print('我是帥哥')\n",
    "hongleong()"
   ]
  },
  {
   "cell_type": "code",
   "execution_count": 7,
   "metadata": {},
   "outputs": [
    {
     "name": "stdout",
     "output_type": "stream",
     "text": [
      "12\n"
     ]
    }
   ],
   "source": [
    "# 指定參數的預設值\n",
    "# 指定參數一定要放在後面\n",
    "def calc(w,h,d=1):\n",
    "    return w * h * d\n",
    "print(calc(3, 4))"
   ]
  },
  {
   "cell_type": "code",
   "execution_count": 10,
   "metadata": {},
   "outputs": [
    {
     "name": "stdout",
     "output_type": "stream",
     "text": [
      "None\n"
     ]
    }
   ],
   "source": [
    "# 使用 return 回傳物件\n",
    "# return 後面可以不放任何東西，return None\n",
    "def hong():\n",
    "    return\n",
    "print(hong())"
   ]
  },
  {
   "cell_type": "code",
   "execution_count": 11,
   "metadata": {},
   "outputs": [
    {
     "name": "stdout",
     "output_type": "stream",
     "text": [
      "[(18, 20), '長方形']\n",
      "18 20 長方形\n"
     ]
    }
   ],
   "source": [
    "# return list \n",
    "def calc(w, h):\n",
    "    return [((w+h)*2, w*h), '正方形' if w==h else '長方形']\n",
    "\n",
    "a = calc(4, 5)\n",
    "print(a)\n",
    "((a, b), c) = calc(4, 5)\n",
    "print(a, b, c)"
   ]
  },
  {
   "cell_type": "code",
   "execution_count": 2,
   "metadata": {},
   "outputs": [
    {
     "name": "stdout",
     "output_type": "stream",
     "text": [
      "加總 : (1, 2, 3, 4) = 10 元\n"
     ]
    }
   ],
   "source": [
    "# args\n",
    "def prnSum(name, pre = '>', *args, post = '#' ):\n",
    "    print(name, pre, args, '=', sum(args), post)\n",
    "prnSum('加總',':', 1, 2, 3, 4, post = '元') # *args 後面的東西，一定要列出來"
   ]
  },
  {
   "cell_type": "code",
   "execution_count": 3,
   "metadata": {},
   "outputs": [
    {
     "name": "stdout",
     "output_type": "stream",
     "text": [
      "飲料 {'紅茶': 40, '咖啡': 70, '果汁': 85}\n"
     ]
    }
   ],
   "source": [
    "# kwargs\n",
    "def prnPrice(name, **kwargs):\n",
    "    print(name, kwargs)\n",
    "\n",
    "prnPrice('飲料', 紅茶 = 40, 咖啡 = 70, 果汁 = 85 ) # output dict\n",
    "\n",
    "# '*'容器， (元素1, 元素2)\n",
    "# '**' 字典 {鍵1 = 值1,鍵2 = 值2 }"
   ]
  },
  {
   "cell_type": "code",
   "execution_count": 1,
   "metadata": {},
   "outputs": [
    {
     "name": "stdout",
     "output_type": "stream",
     "text": [
      "12\n",
      "[(2, 2), (5, 3), (3, 4)]\n"
     ]
    }
   ],
   "source": [
    "# lambda 匿名函式\n",
    "lambda w, h : w*h\n",
    "\n",
    "# 相等於\n",
    "def cal(w, h):\n",
    "    return w*h\n",
    "\n",
    "# 可以為 lambda 綁定一個名字\n",
    "calc = lambda w,h:w*h\n",
    "print(calc(3,4))\n",
    "\n",
    "s = [(3, 4), (2, 2), (5, 3)]\n",
    "print(sorted(s, key = lambda e: e[1]))\n",
    "# 關於 sorted :https://www.runoob.com/python/python-func-sorted.html"
   ]
  },
  {
   "cell_type": "markdown",
   "metadata": {},
   "source": [
    "## 重要： 變數的有效範圍 scope rule\n",
    "1. 全域變數 Global variable\n",
    "2. 區域變數 Local variable\n",
    "\n",
    "### LEGB 規則\n",
    "Local > Enclosing > Global > Built-ins"
   ]
  },
  {
   "cell_type": "code",
   "execution_count": 2,
   "metadata": {},
   "outputs": [
    {
     "name": "stdout",
     "output_type": "stream",
     "text": [
      "2 3 1\n",
      "1 1 1\n"
     ]
    }
   ],
   "source": [
    "a = b = c = 1\n",
    "def test(b):\n",
    "    a = 2 \n",
    "    print(a, b, c)\n",
    "    \n",
    "test(3)\n",
    "print(a,b,c)"
   ]
  },
  {
   "cell_type": "code",
   "execution_count": 3,
   "metadata": {},
   "outputs": [
    {
     "name": "stdout",
     "output_type": "stream",
     "text": [
      "2 3 33\n",
      "1 1 33\n"
     ]
    }
   ],
   "source": [
    "a = b = c = 1\n",
    "def test(b):\n",
    "    global c\n",
    "    a = 2 \n",
    "    c = 33\n",
    "    print(a, b, c)\n",
    "    \n",
    "test(3)\n",
    "print(a,b,c)"
   ]
  },
  {
   "cell_type": "code",
   "execution_count": 1,
   "metadata": {},
   "outputs": [
    {
     "name": "stdout",
     "output_type": "stream",
     "text": [
      "['aaa', 2, 3] ['ttt', 5, 6]\n",
      "['aaa', 2, 3] ['ttt', 5, 6]\n"
     ]
    }
   ],
   "source": [
    "s = [1, 2, 3]\n",
    "t = [4, 5, 6]\n",
    "\n",
    "def test(a):\n",
    "    a[0] = 'aaa' #這個是全域變數 s，所以能改變真正的值\n",
    "    t[0] = 'ttt'\n",
    "    s = [7, 8, 9] # 這個是裡面的 s, 區域變數，和外面的沒關係\n",
    "    s[0] = 'sss'\n",
    "    print(a, t)\n",
    "    \n",
    "test(s)\n",
    "print(s, t)"
   ]
  },
  {
   "cell_type": "code",
   "execution_count": 3,
   "metadata": {},
   "outputs": [
    {
     "name": "stdout",
     "output_type": "stream",
     "text": [
      "Help on function calc in module __main__:\n",
      "\n",
      "calc(w, h, d=1)\n",
      "    計算體積，若 d 省略則可計算面積\n",
      "\n"
     ]
    }
   ],
   "source": [
    "# 函式的文件字串\n",
    "\n",
    "def calc(w, h, d=1):\n",
    "    '計算體積，若 d 省略則可計算面積' #說明字串必須放在第一行\n",
    "    return w * h * d\n",
    "\n",
    "help(calc)"
   ]
  },
  {
   "cell_type": "markdown",
   "metadata": {},
   "source": [
    "# 第五章 PYTHON 最強功能內建函式庫 與 第三方套件"
   ]
  }
 ],
 "metadata": {
  "kernelspec": {
   "display_name": "Python 3",
   "language": "python",
   "name": "python3"
  },
  "language_info": {
   "codemirror_mode": {
    "name": "ipython",
    "version": 3
   },
   "file_extension": ".py",
   "mimetype": "text/x-python",
   "name": "python",
   "nbconvert_exporter": "python",
   "pygments_lexer": "ipython3",
   "version": "3.7.4"
  }
 },
 "nbformat": 4,
 "nbformat_minor": 5
}
