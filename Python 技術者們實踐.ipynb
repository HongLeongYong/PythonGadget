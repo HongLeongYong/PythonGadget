{
 "cells": [
  {
   "cell_type": "markdown",
   "id": "worthy-thunder",
   "metadata": {},
   "source": [
    "# 14/07/2021 星期三 測試"
   ]
  },
  {
   "cell_type": "code",
   "execution_count": 1,
   "id": "experienced-percentage",
   "metadata": {},
   "outputs": [
    {
     "data": {
      "text/plain": [
       "False"
      ]
     },
     "execution_count": 1,
     "metadata": {},
     "output_type": "execute_result"
    }
   ],
   "source": [
    "1>2"
   ]
  },
  {
   "cell_type": "code",
   "execution_count": 7,
   "id": "prepared-bruce",
   "metadata": {},
   "outputs": [
    {
     "name": "stdout",
     "output_type": "stream",
     "text": [
      "2\n",
      "2.0\n",
      "11\n"
     ]
    }
   ],
   "source": [
    "word = '1'\n",
    "print(1 + int(word))\n",
    "print(1 + float(word))\n",
    "print(str(1) + word)"
   ]
  },
  {
   "cell_type": "markdown",
   "id": "august-composer",
   "metadata": {},
   "source": [
    "# 16/07/2021 星期五 測試"
   ]
  },
  {
   "cell_type": "code",
   "execution_count": 1,
   "id": "desperate-loading",
   "metadata": {},
   "outputs": [
    {
     "data": {
      "text/plain": [
       "2.5"
      ]
     },
     "execution_count": 1,
     "metadata": {},
     "output_type": "execute_result"
    }
   ],
   "source": [
    "abs(2.5)"
   ]
  },
  {
   "cell_type": "code",
   "execution_count": 2,
   "id": "transparent-outside",
   "metadata": {},
   "outputs": [
    {
     "name": "stdout",
     "output_type": "stream",
     "text": [
      "2\n",
      "2\n"
     ]
    }
   ],
   "source": [
    "#四捨六入五成雙\n",
    "print(round(1.5))\n",
    "print(round(2.5))"
   ]
  },
  {
   "cell_type": "code",
   "execution_count": 4,
   "id": "disciplinary-shareware",
   "metadata": {},
   "outputs": [
    {
     "name": "stdout",
     "output_type": "stream",
     "text": [
      "True\n",
      "True\n"
     ]
    }
   ],
   "source": [
    "# \"is\" 和 \"is not\" 是比較ID是否一樣\n",
    "# == 是比較內容\n",
    "a = 1\n",
    "b = 2-1\n",
    "print(a is b)\n",
    "print(a == b)"
   ]
  },
  {
   "cell_type": "code",
   "execution_count": null,
   "id": "sufficient-parking",
   "metadata": {},
   "outputs": [],
   "source": []
  }
 ],
 "metadata": {
  "kernelspec": {
   "display_name": "Python 3",
   "language": "python",
   "name": "python3"
  },
  "language_info": {
   "codemirror_mode": {
    "name": "ipython",
    "version": 3
   },
   "file_extension": ".py",
   "mimetype": "text/x-python",
   "name": "python",
   "nbconvert_exporter": "python",
   "pygments_lexer": "ipython3",
   "version": "3.8.8"
  }
 },
 "nbformat": 4,
 "nbformat_minor": 5
}
