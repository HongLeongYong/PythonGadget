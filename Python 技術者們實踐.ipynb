{
 "cells": [
  {
   "cell_type": "markdown",
   "id": "higher-prairie",
   "metadata": {},
   "source": [
    "# 14/07/2021 星期三 測試"
   ]
  },
  {
   "cell_type": "code",
   "execution_count": 1,
   "id": "knowing-smart",
   "metadata": {},
   "outputs": [
    {
     "data": {
      "text/plain": [
       "False"
      ]
     },
     "execution_count": 1,
     "metadata": {},
     "output_type": "execute_result"
    }
   ],
   "source": [
    "1>2"
   ]
  },
  {
   "cell_type": "code",
   "execution_count": 6,
   "id": "desperate-flavor",
   "metadata": {},
   "outputs": [
    {
     "data": {
      "text/plain": [
       "'11'"
      ]
     },
     "execution_count": 6,
     "metadata": {},
     "output_type": "execute_result"
    }
   ],
   "source": [
    "word = '1'\n",
    "print(1 + int(word))\n",
    "print(1 + float(word))\n",
    "print(str(1) + word"
   ]
  },
  {
   "cell_type": "code",
   "execution_count": null,
   "id": "lightweight-country",
   "metadata": {},
   "outputs": [],
   "source": []
  }
 ],
 "metadata": {
  "kernelspec": {
   "display_name": "Python 3",
   "language": "python",
   "name": "python3"
  },
  "language_info": {
   "codemirror_mode": {
    "name": "ipython",
    "version": 3
   },
   "file_extension": ".py",
   "mimetype": "text/x-python",
   "name": "python",
   "nbconvert_exporter": "python",
   "pygments_lexer": "ipython3",
   "version": "3.8.8"
  }
 },
 "nbformat": 4,
 "nbformat_minor": 5
}
