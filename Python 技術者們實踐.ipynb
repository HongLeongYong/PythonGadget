{
 "cells": [
  {
   "cell_type": "markdown",
   "id": "worthy-thunder",
   "metadata": {},
   "source": [
    "# 14/07/2021 星期三 測試"
   ]
  },
  {
   "cell_type": "code",
   "execution_count": 1,
   "id": "experienced-percentage",
   "metadata": {},
   "outputs": [
    {
     "data": {
      "text/plain": [
       "False"
      ]
     },
     "execution_count": 1,
     "metadata": {},
     "output_type": "execute_result"
    }
   ],
   "source": [
    "1>2"
   ]
  },
  {
   "cell_type": "code",
   "execution_count": 7,
   "id": "prepared-bruce",
   "metadata": {},
   "outputs": [
    {
     "name": "stdout",
     "output_type": "stream",
     "text": [
      "2\n",
      "2.0\n",
      "11\n"
     ]
    }
   ],
   "source": [
    "word = '1'\n",
    "print(1 + int(word))\n",
    "print(1 + float(word))\n",
    "print(str(1) + word)"
   ]
  },
  {
   "cell_type": "markdown",
   "id": "august-composer",
   "metadata": {},
   "source": [
    "# 16/07/2021 星期五 測試"
   ]
  },
  {
   "cell_type": "code",
   "execution_count": 1,
   "id": "desperate-loading",
   "metadata": {},
   "outputs": [
    {
     "data": {
      "text/plain": [
       "2.5"
      ]
     },
     "execution_count": 1,
     "metadata": {},
     "output_type": "execute_result"
    }
   ],
   "source": [
    "abs(2.5)"
   ]
  },
  {
   "cell_type": "code",
   "execution_count": 2,
   "id": "transparent-outside",
   "metadata": {},
   "outputs": [
    {
     "name": "stdout",
     "output_type": "stream",
     "text": [
      "2\n",
      "2\n"
     ]
    }
   ],
   "source": [
    "#四捨六入五成雙\n",
    "print(round(1.5))\n",
    "print(round(2.5))"
   ]
  },
  {
   "cell_type": "code",
   "execution_count": 4,
   "id": "disciplinary-shareware",
   "metadata": {},
   "outputs": [
    {
     "name": "stdout",
     "output_type": "stream",
     "text": [
      "True\n",
      "True\n"
     ]
    }
   ],
   "source": [
    "# \"is\" 和 \"is not\" 是比較ID是否一樣\n",
    "# == 是比較內容\n",
    "a = 1\n",
    "b = 2-1\n",
    "print(a is b)\n",
    "print(a == b)"
   ]
  },
  {
   "cell_type": "markdown",
   "id": "level-novelty",
   "metadata": {},
   "source": [
    "# 17/07/2021 星期六 練習\n",
    "## list"
   ]
  },
  {
   "cell_type": "code",
   "execution_count": 8,
   "id": "anticipated-talent",
   "metadata": {},
   "outputs": [
    {
     "name": "stdout",
     "output_type": "stream",
     "text": [
      "蘋果\n",
      "['P', 'y', 't', 'h', 'o', 'n', ' ', '你', '好', '!']\n",
      "b[2] =  3\n",
      "b[2] =  abc\n",
      "82\n"
     ]
    }
   ],
   "source": [
    "fruits = ['蘋果','香蕉','芭樂']\n",
    "print(fruits[0])\n",
    "\n",
    "# 西瓜，45一斤，目前缺貨\n",
    "a = ['西瓜',45,False]\n",
    "\n",
    "s = list(\"Python 你好!\")\n",
    "print(s)\n",
    "\n",
    "# list 的索引\n",
    "b = [1,2,3]\n",
    "print(\"b[2] = \" , b[2])\n",
    "b[2] = 'abc'\n",
    "print(\"b[2] = \" , b[2])\n",
    "\n",
    "## 多層容器\n",
    "fruits = [['蘋果', 82], ['香蕉', 45], ['芭樂', 59]]\n",
    "print(fruits[0][1])"
   ]
  },
  {
   "cell_type": "code",
   "execution_count": null,
   "id": "large-combine",
   "metadata": {},
   "outputs": [],
   "source": []
  }
 ],
 "metadata": {
  "kernelspec": {
   "display_name": "Python 3",
   "language": "python",
   "name": "python3"
  },
  "language_info": {
   "codemirror_mode": {
    "name": "ipython",
    "version": 3
   },
   "file_extension": ".py",
   "mimetype": "text/x-python",
   "name": "python",
   "nbconvert_exporter": "python",
   "pygments_lexer": "ipython3",
   "version": "3.8.8"
  }
 },
 "nbformat": 4,
 "nbformat_minor": 5
}
