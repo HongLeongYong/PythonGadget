{
 "cells": [
  {
   "cell_type": "markdown",
   "id": "worthy-thunder",
   "metadata": {},
   "source": [
    "# 14/07/2021 星期三 測試"
   ]
  },
  {
   "cell_type": "code",
   "execution_count": 1,
   "id": "experienced-percentage",
   "metadata": {},
   "outputs": [
    {
     "data": {
      "text/plain": [
       "False"
      ]
     },
     "execution_count": 1,
     "metadata": {},
     "output_type": "execute_result"
    }
   ],
   "source": [
    "1>2"
   ]
  },
  {
   "cell_type": "code",
   "execution_count": 7,
   "id": "prepared-bruce",
   "metadata": {},
   "outputs": [
    {
     "name": "stdout",
     "output_type": "stream",
     "text": [
      "2\n",
      "2.0\n",
      "11\n"
     ]
    }
   ],
   "source": [
    "word = '1'\n",
    "print(1 + int(word))\n",
    "print(1 + float(word))\n",
    "print(str(1) + word)"
   ]
  },
  {
   "cell_type": "markdown",
   "id": "august-composer",
   "metadata": {},
   "source": [
    "# 16/07/2021 星期五 測試"
   ]
  },
  {
   "cell_type": "code",
   "execution_count": 1,
   "id": "desperate-loading",
   "metadata": {},
   "outputs": [
    {
     "data": {
      "text/plain": [
       "2.5"
      ]
     },
     "execution_count": 1,
     "metadata": {},
     "output_type": "execute_result"
    }
   ],
   "source": [
    "abs(2.5)"
   ]
  },
  {
   "cell_type": "code",
   "execution_count": 2,
   "id": "transparent-outside",
   "metadata": {},
   "outputs": [
    {
     "name": "stdout",
     "output_type": "stream",
     "text": [
      "2\n",
      "2\n"
     ]
    }
   ],
   "source": [
    "#四捨六入五成雙\n",
    "print(round(1.5))\n",
    "print(round(2.5))"
   ]
  },
  {
   "cell_type": "code",
   "execution_count": 4,
   "id": "disciplinary-shareware",
   "metadata": {},
   "outputs": [
    {
     "name": "stdout",
     "output_type": "stream",
     "text": [
      "True\n",
      "True\n"
     ]
    }
   ],
   "source": [
    "# \"is\" 和 \"is not\" 是比較ID是否一樣\n",
    "# == 是比較內容\n",
    "a = 1\n",
    "b = 2-1\n",
    "print(a is b)\n",
    "print(a == b)"
   ]
  },
  {
   "cell_type": "markdown",
   "id": "level-novelty",
   "metadata": {},
   "source": [
    "# 17/07/2021 星期六 練習\n",
    "## list"
   ]
  },
  {
   "cell_type": "code",
   "execution_count": 8,
   "id": "anticipated-talent",
   "metadata": {},
   "outputs": [
    {
     "name": "stdout",
     "output_type": "stream",
     "text": [
      "蘋果\n",
      "['P', 'y', 't', 'h', 'o', 'n', ' ', '你', '好', '!']\n",
      "b[2] =  3\n",
      "b[2] =  abc\n",
      "82\n"
     ]
    }
   ],
   "source": [
    "fruits = ['蘋果','香蕉','芭樂']\n",
    "print(fruits[0])\n",
    "\n",
    "# 西瓜，45一斤，目前缺貨\n",
    "a = ['西瓜',45,False]\n",
    "\n",
    "s = list(\"Python 你好!\")\n",
    "print(s)\n",
    "\n",
    "# list 的索引\n",
    "b = [1,2,3]\n",
    "print(\"b[2] = \" , b[2])\n",
    "b[2] = 'abc'\n",
    "print(\"b[2] = \" , b[2])\n",
    "\n",
    "## 多層容器\n",
    "fruits = [['蘋果', 82], ['香蕉', 45], ['芭樂', 59]]\n",
    "print(fruits[0][1])"
   ]
  },
  {
   "cell_type": "markdown",
   "id": "composite-actress",
   "metadata": {},
   "source": [
    "# 18/07/2021 星期天 練習"
   ]
  },
  {
   "cell_type": "code",
   "execution_count": 2,
   "id": "abroad-puppy",
   "metadata": {},
   "outputs": [
    {
     "name": "stdout",
     "output_type": "stream",
     "text": [
      "['e', 'l']\n"
     ]
    }
   ],
   "source": [
    "# 容器 slicing 切片\n",
    "a = list(\"helloworld\")\n",
    "print(a[1:3]) # 回傳索引1到2的list"
   ]
  },
  {
   "cell_type": "code",
   "execution_count": 9,
   "id": "fourth-dealing",
   "metadata": {},
   "outputs": [
    {
     "name": "stdout",
     "output_type": "stream",
     "text": [
      "[2, 4, 6]\n",
      "[1, 5, 'AB', 4, 5, 6]\n",
      "[1, 'a', 'b', 'c']\n",
      "[1, 'b', 'c']\n",
      "True\n"
     ]
    }
   ],
   "source": [
    "s = [1,2,3,4,5,6]\n",
    "print(s[1:6:2])\n",
    "\n",
    "s[1:3] = [5,'AB']\n",
    "print(s)\n",
    "\n",
    "s[1:] = \"abc\" #後面的東西會不見\n",
    "print(s)\n",
    "\n",
    "del s[1]\n",
    "print(s)\n",
    "\n",
    "print(1 in s)"
   ]
  },
  {
   "cell_type": "markdown",
   "id": "interracial-married",
   "metadata": {},
   "source": [
    "## tuple : 不可更改的串列\n",
    "適合用於 重要數據、運行速度快、可以和list混用"
   ]
  },
  {
   "cell_type": "code",
   "execution_count": 3,
   "id": "wrapped-lunch",
   "metadata": {},
   "outputs": [
    {
     "name": "stdout",
     "output_type": "stream",
     "text": [
      "甲\n",
      "(0, 1, 2, 3)\n"
     ]
    }
   ],
   "source": [
    "grade = ('甲','乙','丙','丁'); order = [0, 1, 2, 3]\n",
    "\n",
    "print(grade[0])\n",
    "\n",
    "order2 = tuple(order)\n",
    "print(order2)"
   ]
  },
  {
   "cell_type": "markdown",
   "id": "classical-technician",
   "metadata": {},
   "source": [
    "## set： 一堆資料的集合\n",
    "* 隨機擺放資料，沒有固定位置\n",
    "* 資料唯一、不可重複"
   ]
  },
  {
   "cell_type": "code",
   "execution_count": 7,
   "id": "labeled-clearance",
   "metadata": {},
   "outputs": [
    {
     "name": "stdout",
     "output_type": "stream",
     "text": [
      "{0, 1, 2}\n",
      "True\n"
     ]
    }
   ],
   "source": [
    "myset = {0, 1, 2, 1}\n",
    "print(myset) #資料不可重複，所以‘1’只會出現一次\n",
    "\n",
    "# 由於沒有排序，所以不可用切片（slicing) 和 索引算符 []\n",
    "print(1 in myset) #output:  True\n"
   ]
  },
  {
   "cell_type": "markdown",
   "id": "pediatric-raising",
   "metadata": {},
   "source": [
    "## dict: 以鍵查值的字典\n",
    "* [鍵:值]\n",
    "* 鍵必需唯一，但值可以重複\n",
    "* 沒有順序排列"
   ]
  },
  {
   "cell_type": "code",
   "execution_count": 5,
   "id": "standard-volunteer",
   "metadata": {},
   "outputs": [
    {
     "name": "stdout",
     "output_type": "stream",
     "text": [
      "{'A': 3, 'B': 2}\n",
      "25\n",
      "True\n",
      "False\n",
      "201\n"
     ]
    }
   ],
   "source": [
    "a = {'A':1, 'B':2, 'A':3} # 如果鍵重複，新的值將會蓋掉舊的\n",
    "print(a)\n",
    "\n",
    "# 用索引符 [] 取值\n",
    "d = {'紅茶':25, '果汁':45}\n",
    "print(d['紅茶'])\n",
    "\n",
    "# 算符\n",
    "print('紅茶' in d) # output: True\n",
    "print (25 in d) # output: False\n",
    "\n",
    "# 用tuple做键\n",
    "extno = {('王','小明'):201, ('陳','美美'):202, ('張','天才'):203}\n",
    "# print(extno[0]) #output: error\n",
    "print(extno['王','小明'])"
   ]
  },
  {
   "cell_type": "markdown",
   "id": "enhanced-agent",
   "metadata": {},
   "source": [
    "# 字串也是一種資料結構\n",
    "* 有順序排列\n",
    "* 有許多函式可以使用\n",
    "* min() max() sum() len()\n",
    "* sorted() reversed()\n"
   ]
  },
  {
   "cell_type": "code",
   "execution_count": 9,
   "id": "identical-psychiatry",
   "metadata": {},
   "outputs": [
    {
     "name": "stdout",
     "output_type": "stream",
     "text": [
      "1\n",
      "135\n"
     ]
    }
   ],
   "source": [
    "s = '0123456'\n",
    "print(s[1])\n",
    "print(s[1:6:2])"
   ]
  },
  {
   "cell_type": "code",
   "execution_count": 10,
   "id": "armed-match",
   "metadata": {},
   "outputs": [
    {
     "name": "stdout",
     "output_type": "stream",
     "text": [
      "3 1 6\n"
     ]
    }
   ],
   "source": [
    "# 字典也可以用 max min sum,可是只有鍵\n",
    "d = {1:4, 2:5, 3:6}\n",
    "print(max(d), min(d), sum(d))"
   ]
  },
  {
   "cell_type": "code",
   "execution_count": 14,
   "id": "prepared-conditioning",
   "metadata": {},
   "outputs": [
    {
     "data": {
      "text/plain": [
       "[3, 2, 1]"
      ]
     },
     "execution_count": 14,
     "metadata": {},
     "output_type": "execute_result"
    }
   ],
   "source": [
    "sorted([3,1,2],reverse= True) #大到小"
   ]
  },
  {
   "cell_type": "code",
   "execution_count": 3,
   "id": "assumed-temperature",
   "metadata": {},
   "outputs": [
    {
     "name": "stdout",
     "output_type": "stream",
     "text": [
      "('c', 'a', 'd', 'b')\n",
      "[0, 3, 2, 1]\n"
     ]
    }
   ],
   "source": [
    "print(tuple(reversed('bdac'))) #把字串的字元反轉\n",
    "print(list(reversed([1,2,3,0]))) # 把list中的元素反轉\n"
   ]
  },
  {
   "cell_type": "markdown",
   "id": "substantial-spectrum",
   "metadata": {},
   "source": [
    "# 2-7 容器相關的方法(Method)\n",
    "## 關於 LIST\n",
    "* sort() & reverse() 是 list的專屬\n",
    "* sorted() & reversed() , string,list,tuple,set,dict 都能用\n",
    "\n",
    "list 元素新增與串接 ： insert 、 append 、 extend"
   ]
  },
  {
   "cell_type": "code",
   "execution_count": 6,
   "id": "qualified-shareware",
   "metadata": {},
   "outputs": [
    {
     "name": "stdout",
     "output_type": "stream",
     "text": [
      "01 insert: [0, 9, 1, 2]\n",
      "02 append: [0, 9, 1, 2, 3]\n",
      "03 extend: [0, 9, 1, 2, 3, 4, 5]\n",
      "04 += : [0, 9, 1, 2, 3, 4, 5, 6, 7]\n"
     ]
    }
   ],
   "source": [
    "s = [0, 1, 2]\n",
    "\n",
    "s.insert(1,9)\n",
    "print(\"01 insert:\",s)\n",
    "\n",
    "s.append(3)\n",
    "print(\"02 append:\",s)\n",
    "\n",
    "s.extend([4,5])\n",
    "print(\"03 extend:\",s)\n",
    "\n",
    "s += [6,7]\n",
    "print(\"04 += :\",s)\n"
   ]
  },
  {
   "cell_type": "markdown",
   "id": "external-investigator",
   "metadata": {},
   "source": [
    "list 元素： index, count, remove, clear , pop, copy"
   ]
  },
  {
   "cell_type": "code",
   "execution_count": 9,
   "id": "proper-european",
   "metadata": {},
   "outputs": [
    {
     "name": "stdout",
     "output_type": "stream",
     "text": [
      "[1, 1, 0]\n",
      "[2, 1, 0]\n"
     ]
    }
   ],
   "source": [
    "s = [ 1, 2, 1, 0]\n",
    "s.pop(1) # 刪除索引1的東西 # pop() 沒放東西就會刪除最後一個\n",
    "print(s)\n",
    "\n",
    "b = [1, 2, 1, 0]\n",
    "b.remove(1)  # 刪除第一個“1”\n",
    "print(b)"
   ]
  },
  {
   "cell_type": "markdown",
   "id": "comfortable-interference",
   "metadata": {},
   "source": [
    "## 關於 tuple\n",
    "* 只有 count() , index()"
   ]
  },
  {
   "cell_type": "code",
   "execution_count": 2,
   "id": "respective-pennsylvania",
   "metadata": {},
   "outputs": [
    {
     "name": "stdout",
     "output_type": "stream",
     "text": [
      "2\n",
      "3\n"
     ]
    }
   ],
   "source": [
    "t = ('a','b','c','d','d')\n",
    "\n",
    "print(t.count('d'))\n",
    "print(t.index('d'))"
   ]
  },
  {
   "cell_type": "markdown",
   "id": "divine-tuesday",
   "metadata": {},
   "source": [
    "## 關於 string\n",
    "* upper() lower() 轉成大寫，小寫\n",
    "* isalpha() , isdigit() , isalnum() 檢查資源全部是英文字、數字、英數字 * RETURN TRUE FALSE\n",
    "\n",
    "### 字元尋找與取代\n",
    "* find('xx') , rfind('xx') 尋找第一個、尋找最後一個\n",
    "* startswith('xx') endswith('xx')  查詢開頭或者結尾是否正確 * RETURN TRUE FALSE\n",
    "* replace('AB','c')\n"
   ]
  },
  {
   "cell_type": "code",
   "execution_count": 8,
   "id": "sized-jungle",
   "metadata": {},
   "outputs": [
    {
     "name": "stdout",
     "output_type": "stream",
     "text": [
      "True\n",
      "8\n",
      "l\n"
     ]
    }
   ],
   "source": [
    "w = \"helloworld\"\n",
    "print(w.isalpha())\n",
    "print(w.rfind('l'))\n",
    "print(w[8])"
   ]
  },
  {
   "cell_type": "markdown",
   "id": "talented-shareware",
   "metadata": {},
   "source": [
    "### 字串的去頭尾\n",
    "* strip() 刪除左右連續空白\n",
    "* lstrip() 刪除左側連續空白\n",
    "* rstrip() 刪除右側連續空白\n",
    "* 如果在() 加入 ('-')，就會刪除連續 '-'"
   ]
  },
  {
   "cell_type": "code",
   "execution_count": 11,
   "id": "colonial-production",
   "metadata": {},
   "outputs": [
    {
     "name": "stdout",
     "output_type": "stream",
     "text": [
      "hello--world\n"
     ]
    }
   ],
   "source": [
    "w = \"--hello--world--\"\n",
    "print(w.strip('-'))"
   ]
  },
  {
   "cell_type": "code",
   "execution_count": null,
   "id": "differential-float",
   "metadata": {},
   "outputs": [],
   "source": []
  }
 ],
 "metadata": {
  "kernelspec": {
   "display_name": "Python 3",
   "language": "python",
   "name": "python3"
  },
  "language_info": {
   "codemirror_mode": {
    "name": "ipython",
    "version": 3
   },
   "file_extension": ".py",
   "mimetype": "text/x-python",
   "name": "python",
   "nbconvert_exporter": "python",
   "pygments_lexer": "ipython3",
   "version": "3.8.8"
  }
 },
 "nbformat": 4,
 "nbformat_minor": 5
}
